{
  "nbformat": 4,
  "nbformat_minor": 0,
  "metadata": {
    "colab": {
      "name": "icp11.ipynb",
      "provenance": [],
      "authorship_tag": "ABX9TyO/rO1CDJ9ZbypuksOSXpoA",
      "include_colab_link": true
    },
    "kernelspec": {
      "name": "python3",
      "display_name": "Python 3"
    }
  },
  "cells": [
    {
      "cell_type": "markdown",
      "metadata": {
        "id": "view-in-github",
        "colab_type": "text"
      },
      "source": [
        "<a href=\"https://colab.research.google.com/github/saxena-anshit/ICP11/blob/master/icp11.ipynb\" target=\"_parent\"><img src=\"https://colab.research.google.com/assets/colab-badge.svg\" alt=\"Open In Colab\"/></a>"
      ]
    },
    {
      "cell_type": "code",
      "metadata": {
        "id": "TRy4kosztWC-",
        "colab_type": "code",
        "outputId": "9c391476-69fd-489c-f89b-479e3349405e",
        "colab": {
          "base_uri": "https://localhost:8080/",
          "height": 34
        }
      },
      "source": [
        "import numpy as np\n",
        "import tensorflow as tf\n",
        "from keras.datasets import fashion_mnist\n",
        "from keras.models import Sequential\n",
        "from keras.layers import Conv2D, MaxPooling2D, Dense, Flatten\n",
        "from keras.utils import to_categorical"
      ],
      "execution_count": 0,
      "outputs": [
        {
          "output_type": "stream",
          "text": [
            "Using TensorFlow backend.\n"
          ],
          "name": "stderr"
        }
      ]
    },
    {
      "cell_type": "code",
      "metadata": {
        "id": "BLw7ld5Itv9m",
        "colab_type": "code",
        "colab": {}
      },
      "source": [
        "(train_images, train_labels), (test_images, test_labels) = fashion_mnist.load_data()"
      ],
      "execution_count": 0,
      "outputs": []
    },
    {
      "cell_type": "code",
      "metadata": {
        "id": "l9KQBlijtxUk",
        "colab_type": "code",
        "colab": {}
      },
      "source": [
        "# Normalize the images.\n",
        "train_images = (train_images / 255) - 0.5\n",
        "test_images = (test_images / 255) - 0.5\n",
        "show_image = test_images"
      ],
      "execution_count": 0,
      "outputs": []
    },
    {
      "cell_type": "code",
      "metadata": {
        "id": "U2tGYC__txXQ",
        "colab_type": "code",
        "colab": {}
      },
      "source": [
        "# Reshape the images.\n",
        "train_images = np.expand_dims(train_images, axis=3)\n",
        "test_images = np.expand_dims(test_images, axis=3)"
      ],
      "execution_count": 0,
      "outputs": []
    },
    {
      "cell_type": "code",
      "metadata": {
        "id": "hyyTW84ItxaX",
        "colab_type": "code",
        "colab": {}
      },
      "source": [
        "num_filters = 16\n",
        "filter_size = 3\n",
        "pool_size = 2"
      ],
      "execution_count": 0,
      "outputs": []
    },
    {
      "cell_type": "code",
      "metadata": {
        "id": "8f4S7EjKtxdT",
        "colab_type": "code",
        "colab": {}
      },
      "source": [
        "# Build the model.\n",
        "model = Sequential([\n",
        "  Conv2D(num_filters, filter_size, input_shape=(28, 28, 1)),\n",
        "  MaxPooling2D(pool_size=pool_size),\n",
        "  Flatten(),\n",
        "  Dense(10, activation='softmax'),\n",
        "])"
      ],
      "execution_count": 0,
      "outputs": []
    },
    {
      "cell_type": "code",
      "metadata": {
        "id": "4ji6P1IFuHlz",
        "colab_type": "code",
        "colab": {}
      },
      "source": [
        "# Compile the model.\n",
        "model.compile(\n",
        "  'adam',\n",
        "  loss='categorical_crossentropy',\n",
        "  metrics=['accuracy'],\n",
        ")"
      ],
      "execution_count": 0,
      "outputs": []
    },
    {
      "cell_type": "code",
      "metadata": {
        "id": "SsJNeuQ1uKU6",
        "colab_type": "code",
        "outputId": "f3aa1341-6637-4305-83bd-3d5e17549c4c",
        "colab": {
          "base_uri": "https://localhost:8080/",
          "height": 1000
        }
      },
      "source": [
        "# Train the model.\n",
        "model.fit(\n",
        "  train_images,\n",
        "  to_categorical(train_labels),\n",
        "  epochs=50,\n",
        "  validation_data=(test_images, to_categorical(test_labels)),\n",
        ")"
      ],
      "execution_count": 0,
      "outputs": [
        {
          "output_type": "stream",
          "text": [
            "Train on 60000 samples, validate on 10000 samples\n",
            "Epoch 1/50\n",
            "60000/60000 [==============================] - 20s 338us/step - loss: 0.4756 - accuracy: 0.8356 - val_loss: 0.4094 - val_accuracy: 0.8569\n",
            "Epoch 2/50\n",
            "60000/60000 [==============================] - 20s 338us/step - loss: 0.3625 - accuracy: 0.8753 - val_loss: 0.3717 - val_accuracy: 0.8725\n",
            "Epoch 3/50\n",
            "60000/60000 [==============================] - 20s 340us/step - loss: 0.3298 - accuracy: 0.8845 - val_loss: 0.3527 - val_accuracy: 0.8772\n",
            "Epoch 4/50\n",
            "60000/60000 [==============================] - 20s 340us/step - loss: 0.3076 - accuracy: 0.8933 - val_loss: 0.3462 - val_accuracy: 0.8770\n",
            "Epoch 5/50\n",
            "60000/60000 [==============================] - 20s 340us/step - loss: 0.2910 - accuracy: 0.8985 - val_loss: 0.3419 - val_accuracy: 0.8787\n",
            "Epoch 6/50\n",
            "60000/60000 [==============================] - 21s 342us/step - loss: 0.2759 - accuracy: 0.9032 - val_loss: 0.3197 - val_accuracy: 0.8856\n",
            "Epoch 7/50\n",
            "60000/60000 [==============================] - 21s 342us/step - loss: 0.2634 - accuracy: 0.9070 - val_loss: 0.3117 - val_accuracy: 0.8892\n",
            "Epoch 8/50\n",
            "60000/60000 [==============================] - 21s 343us/step - loss: 0.2543 - accuracy: 0.9102 - val_loss: 0.3145 - val_accuracy: 0.8910\n",
            "Epoch 9/50\n",
            "60000/60000 [==============================] - 20s 340us/step - loss: 0.2450 - accuracy: 0.9121 - val_loss: 0.3079 - val_accuracy: 0.8924\n",
            "Epoch 10/50\n",
            "60000/60000 [==============================] - 21s 351us/step - loss: 0.2372 - accuracy: 0.9152 - val_loss: 0.3111 - val_accuracy: 0.8923\n",
            "Epoch 11/50\n",
            "60000/60000 [==============================] - 20s 336us/step - loss: 0.2316 - accuracy: 0.9177 - val_loss: 0.3054 - val_accuracy: 0.8944\n",
            "Epoch 12/50\n",
            "60000/60000 [==============================] - 20s 334us/step - loss: 0.2250 - accuracy: 0.9197 - val_loss: 0.3021 - val_accuracy: 0.8935\n",
            "Epoch 13/50\n",
            "60000/60000 [==============================] - 20s 334us/step - loss: 0.2189 - accuracy: 0.9230 - val_loss: 0.3073 - val_accuracy: 0.8949\n",
            "Epoch 14/50\n",
            "60000/60000 [==============================] - 20s 331us/step - loss: 0.2144 - accuracy: 0.9236 - val_loss: 0.3035 - val_accuracy: 0.8953\n",
            "Epoch 15/50\n",
            "60000/60000 [==============================] - 20s 332us/step - loss: 0.2087 - accuracy: 0.9254 - val_loss: 0.3142 - val_accuracy: 0.8937\n",
            "Epoch 16/50\n",
            "60000/60000 [==============================] - 20s 335us/step - loss: 0.2051 - accuracy: 0.9270 - val_loss: 0.3101 - val_accuracy: 0.8960\n",
            "Epoch 17/50\n",
            "60000/60000 [==============================] - 20s 331us/step - loss: 0.2013 - accuracy: 0.9280 - val_loss: 0.3201 - val_accuracy: 0.8909\n",
            "Epoch 18/50\n",
            "60000/60000 [==============================] - 20s 333us/step - loss: 0.1973 - accuracy: 0.9292 - val_loss: 0.3170 - val_accuracy: 0.8947\n",
            "Epoch 19/50\n",
            "60000/60000 [==============================] - 20s 330us/step - loss: 0.1937 - accuracy: 0.9306 - val_loss: 0.3190 - val_accuracy: 0.8926\n",
            "Epoch 20/50\n",
            "60000/60000 [==============================] - 20s 331us/step - loss: 0.1910 - accuracy: 0.9314 - val_loss: 0.3256 - val_accuracy: 0.8931\n",
            "Epoch 21/50\n",
            "60000/60000 [==============================] - 20s 331us/step - loss: 0.1872 - accuracy: 0.9332 - val_loss: 0.3231 - val_accuracy: 0.8919\n",
            "Epoch 22/50\n",
            "60000/60000 [==============================] - 20s 330us/step - loss: 0.1845 - accuracy: 0.9328 - val_loss: 0.3265 - val_accuracy: 0.8936\n",
            "Epoch 23/50\n",
            "60000/60000 [==============================] - 20s 337us/step - loss: 0.1824 - accuracy: 0.9341 - val_loss: 0.3304 - val_accuracy: 0.8910\n",
            "Epoch 24/50\n",
            "60000/60000 [==============================] - 25s 411us/step - loss: 0.1793 - accuracy: 0.9358 - val_loss: 0.3272 - val_accuracy: 0.8945\n",
            "Epoch 25/50\n",
            "60000/60000 [==============================] - 20s 340us/step - loss: 0.1770 - accuracy: 0.9356 - val_loss: 0.3299 - val_accuracy: 0.8926\n",
            "Epoch 26/50\n",
            "60000/60000 [==============================] - 20s 338us/step - loss: 0.1746 - accuracy: 0.9364 - val_loss: 0.3304 - val_accuracy: 0.8935\n",
            "Epoch 27/50\n",
            "60000/60000 [==============================] - 20s 336us/step - loss: 0.1719 - accuracy: 0.9378 - val_loss: 0.3303 - val_accuracy: 0.8931\n",
            "Epoch 28/50\n",
            "60000/60000 [==============================] - 20s 334us/step - loss: 0.1698 - accuracy: 0.9388 - val_loss: 0.3346 - val_accuracy: 0.8933\n",
            "Epoch 29/50\n",
            "60000/60000 [==============================] - 20s 334us/step - loss: 0.1685 - accuracy: 0.9382 - val_loss: 0.3420 - val_accuracy: 0.8920\n",
            "Epoch 30/50\n",
            "60000/60000 [==============================] - 20s 333us/step - loss: 0.1669 - accuracy: 0.9394 - val_loss: 0.3458 - val_accuracy: 0.8896\n",
            "Epoch 31/50\n",
            "60000/60000 [==============================] - 20s 333us/step - loss: 0.1645 - accuracy: 0.9407 - val_loss: 0.3544 - val_accuracy: 0.8892\n",
            "Epoch 32/50\n",
            "60000/60000 [==============================] - 20s 334us/step - loss: 0.1622 - accuracy: 0.9410 - val_loss: 0.3517 - val_accuracy: 0.8916\n",
            "Epoch 33/50\n",
            "60000/60000 [==============================] - 20s 342us/step - loss: 0.1598 - accuracy: 0.9424 - val_loss: 0.3461 - val_accuracy: 0.8920\n",
            "Epoch 34/50\n",
            "60000/60000 [==============================] - 21s 342us/step - loss: 0.1592 - accuracy: 0.9425 - val_loss: 0.3550 - val_accuracy: 0.8906\n",
            "Epoch 35/50\n",
            "60000/60000 [==============================] - 20s 338us/step - loss: 0.1569 - accuracy: 0.9435 - val_loss: 0.3554 - val_accuracy: 0.8918\n",
            "Epoch 36/50\n",
            "60000/60000 [==============================] - 20s 332us/step - loss: 0.1556 - accuracy: 0.9435 - val_loss: 0.3570 - val_accuracy: 0.8910\n",
            "Epoch 37/50\n",
            "60000/60000 [==============================] - 20s 330us/step - loss: 0.1542 - accuracy: 0.9437 - val_loss: 0.3647 - val_accuracy: 0.8921\n",
            "Epoch 38/50\n",
            "60000/60000 [==============================] - 21s 343us/step - loss: 0.1522 - accuracy: 0.9448 - val_loss: 0.3615 - val_accuracy: 0.8913\n",
            "Epoch 39/50\n",
            "60000/60000 [==============================] - 20s 338us/step - loss: 0.1511 - accuracy: 0.9459 - val_loss: 0.3730 - val_accuracy: 0.8909\n",
            "Epoch 40/50\n",
            "60000/60000 [==============================] - 20s 338us/step - loss: 0.1496 - accuracy: 0.9455 - val_loss: 0.3663 - val_accuracy: 0.8905\n",
            "Epoch 41/50\n",
            "60000/60000 [==============================] - 21s 348us/step - loss: 0.1487 - accuracy: 0.9459 - val_loss: 0.3727 - val_accuracy: 0.8899\n",
            "Epoch 42/50\n",
            "60000/60000 [==============================] - 20s 331us/step - loss: 0.1466 - accuracy: 0.9468 - val_loss: 0.3863 - val_accuracy: 0.8854\n",
            "Epoch 43/50\n",
            "60000/60000 [==============================] - 19s 323us/step - loss: 0.1464 - accuracy: 0.9468 - val_loss: 0.3832 - val_accuracy: 0.8890\n",
            "Epoch 44/50\n",
            "60000/60000 [==============================] - 19s 321us/step - loss: 0.1442 - accuracy: 0.9479 - val_loss: 0.3891 - val_accuracy: 0.8872\n",
            "Epoch 45/50\n",
            "60000/60000 [==============================] - 19s 324us/step - loss: 0.1444 - accuracy: 0.9478 - val_loss: 0.3880 - val_accuracy: 0.8895\n",
            "Epoch 46/50\n",
            "60000/60000 [==============================] - 20s 339us/step - loss: 0.1421 - accuracy: 0.9488 - val_loss: 0.3909 - val_accuracy: 0.8902\n",
            "Epoch 47/50\n",
            "60000/60000 [==============================] - 21s 343us/step - loss: 0.1417 - accuracy: 0.9485 - val_loss: 0.3874 - val_accuracy: 0.8901\n",
            "Epoch 48/50\n",
            "60000/60000 [==============================] - 20s 339us/step - loss: 0.1406 - accuracy: 0.9493 - val_loss: 0.4020 - val_accuracy: 0.8839\n",
            "Epoch 49/50\n",
            "60000/60000 [==============================] - 20s 338us/step - loss: 0.1388 - accuracy: 0.9498 - val_loss: 0.3976 - val_accuracy: 0.8873\n",
            "Epoch 50/50\n",
            "60000/60000 [==============================] - 20s 332us/step - loss: 0.1388 - accuracy: 0.9500 - val_loss: 0.4102 - val_accuracy: 0.8848\n"
          ],
          "name": "stdout"
        },
        {
          "output_type": "execute_result",
          "data": {
            "text/plain": [
              "<keras.callbacks.callbacks.History at 0x7ff90b442898>"
            ]
          },
          "metadata": {
            "tags": []
          },
          "execution_count": 8
        }
      ]
    },
    {
      "cell_type": "code",
      "metadata": {
        "id": "oPiUB-vHuNAr",
        "colab_type": "code",
        "colab": {}
      },
      "source": [
        "# Predict on the first 5 test images.\n",
        "predictions = model.predict(test_images[:5])"
      ],
      "execution_count": 0,
      "outputs": []
    },
    {
      "cell_type": "code",
      "metadata": {
        "id": "-unjFResuPXL",
        "colab_type": "code",
        "outputId": "19175ce9-6038-48dd-e677-9a648affbf63",
        "colab": {
          "base_uri": "https://localhost:8080/",
          "height": 87
        }
      },
      "source": [
        "# Print our model's predictions.\n",
        "print(\"These are the model predictions :\")\n",
        "print(np.argmax(predictions, axis=1))\n",
        "print(\"\\n\")"
      ],
      "execution_count": 0,
      "outputs": [
        {
          "output_type": "stream",
          "text": [
            "These are the model predictions :\n",
            "[9 2 1 1 6]\n",
            "\n",
            "\n"
          ],
          "name": "stdout"
        }
      ]
    },
    {
      "cell_type": "code",
      "metadata": {
        "id": "gwMeQlkruPZs",
        "colab_type": "code",
        "outputId": "e2c258f7-a4e5-497d-eaa6-398792077aa5",
        "colab": {
          "base_uri": "https://localhost:8080/",
          "height": 52
        }
      },
      "source": [
        "# Check our predictions against the ground truths.\n",
        "print(\"These are the corresponding labels :\")\n",
        "print(test_labels[:5])"
      ],
      "execution_count": 0,
      "outputs": [
        {
          "output_type": "stream",
          "text": [
            "These are the corresponding labels :\n",
            "[9 2 1 1 6]\n"
          ],
          "name": "stdout"
        }
      ]
    },
    {
      "cell_type": "code",
      "metadata": {
        "id": "HDG7FgVozwgM",
        "colab_type": "code",
        "colab": {}
      },
      "source": [
        "import matplotlib.pyplot as plt"
      ],
      "execution_count": 0,
      "outputs": []
    },
    {
      "cell_type": "code",
      "metadata": {
        "id": "jId9Lff1zwmB",
        "colab_type": "code",
        "outputId": "1b862289-6556-48d7-8602-54773703611e",
        "colab": {
          "base_uri": "https://localhost:8080/",
          "height": 1000
        }
      },
      "source": [
        "for x in range(0,5):\n",
        "  plt.imshow(show_image[x])\n",
        "  plt.show()"
      ],
      "execution_count": 0,
      "outputs": [
        {
          "output_type": "display_data",
          "data": {
            "image/png": "[encoded data removed]",
            "text/plain": [
              "<Figure size 432x288 with 1 Axes>"
            ]
          },
          "metadata": {
            "tags": [],
            "needs_background": "light"
          }
        },
        {
          "output_type": "display_data",
          "data": {
            "image/png": "[encoded data removed]",
            "text/plain": [
              "<Figure size 432x288 with 1 Axes>"
            ]
          },
          "metadata": {
            "tags": [],
            "needs_background": "light"
          }
        },
        {
          "output_type": "display_data",
          "data": {
            "image/png": "[encoded data removed]",
            "text/plain": [
              "<Figure size 432x288 with 1 Axes>"
            ]
          },
          "metadata": {
            "tags": [],
            "needs_background": "light"
          }
        },
        {
          "output_type": "display_data",
          "data": {
            "image/png": "[encoded data removed]",
            "text/plain": [
              "<Figure size 432x288 with 1 Axes>"
            ]
          },
          "metadata": {
            "tags": [],
            "needs_background": "light"
          }
        },
        {
          "output_type": "display_data",
          "data": {
            "image/png": "[encoded data removed]",
            "text/plain": [
              "<Figure size 432x288 with 1 Axes>"
            ]
          },
          "metadata": {
            "tags": [],
            "needs_background": "light"
          }
        }
      ]
    }
  ]
}